{
 "cells": [
  {
   "cell_type": "code",
   "execution_count": null,
   "id": "81c30809-4f63-43c7-9ca4-bbdb1b3293e2",
   "metadata": {},
   "outputs": [
    {
     "name": "stdout",
     "output_type": "stream",
     "text": [
      "1\n"
     ]
    }
   ],
   "source": [
    "print(1)"
   ]
  },
  {
   "cell_type": "code",
   "execution_count": null,
   "id": "380fe50e-a754-4235-95d2-7e12878cb4fb",
   "metadata": {},
   "outputs": [
    {
     "name": "stdout",
     "output_type": "stream",
     "text": [
      "2\n"
     ]
    }
   ],
   "source": [
    "print(2)"
   ]
  },
  {
   "cell_type": "code",
   "execution_count": null,
   "id": "cee79595-686a-45ea-80b3-13cae6fd836b",
   "metadata": {},
   "outputs": [
    {
     "name": "stdout",
     "output_type": "stream",
     "text": [
      "3\n"
     ]
    }
   ],
   "source": [
    "print(3)"
   ]
  },
  {
   "cell_type": "code",
   "execution_count": null,
   "id": "0a7ca226-860f-427a-8ed5-2f4e7af867bd",
   "metadata": {},
   "outputs": [
    {
     "name": "stdout",
     "output_type": "stream",
     "text": [
      "{\n",
      "    \"kernelspec\": {\n",
      "        \"display_name\": \"python3\",\n",
      "        \"language\": \"python\",\n",
      "        \"name\": \"python3\"\n",
      "    }\n",
      "}\n"
     ]
    }
   ],
   "source": [
    "import json\n",
    "\n",
    "# Dateiname des Notebooks\n",
    "notebook_file = 'merge.ipynb'\n",
    "\n",
    "# Öffnen der Datei und Laden der JSON-Daten\n",
    "with open(notebook_file, 'r', encoding='utf-8') as file:\n",
    "    notebook_data = json.load(file)\n",
    "\n",
    "# Anzeigen der Metadaten\n",
    "metadata = notebook_data.get('metadata', {})\n",
    "print(json.dumps(metadata, indent=4))"
   ]
  },
  {
   "cell_type": "code",
   "execution_count": null,
   "id": "18af9d87-fe62-45ff-a628-4cd892fc356b",
   "metadata": {},
   "outputs": [],
   "source": []
  }
 ],
 "metadata": {
  "kernelspec": {
   "display_name": "python3",
   "language": "python",
   "name": "python3"
  }
 },
 "nbformat": 4,
 "nbformat_minor": 5
}
